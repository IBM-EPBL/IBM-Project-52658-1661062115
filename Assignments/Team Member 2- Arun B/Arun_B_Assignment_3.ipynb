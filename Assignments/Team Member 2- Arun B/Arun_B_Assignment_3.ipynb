{
 "cells": [
  {
   "cell_type": "code",
   "execution_count": 3,
   "metadata": {
    "colab": {
     "base_uri": "https://localhost:8080/"
    },
    "id": "x-zOXfZzZSTv",
    "outputId": "06505609-422d-4239-d7a9-228b2564b8cb"
   },
   "outputs": [
    {
     "name": "stderr",
     "output_type": "stream",
     "text": [
      "'unzip' is not recognized as an internal or external command,\n",
      "operable program or batch file.\n"
     ]
    }
   ],
   "source": [
    "!unzip '/content/drive/MyDrive/Flowers-Dataset.zip'"
   ]
  },
  {
   "cell_type": "markdown",
   "metadata": {
    "id": "SOg4lS5PplIg"
   },
   "source": [
    "2.IMAGE AUGMENTATION"
   ]
  },
  {
   "cell_type": "code",
   "execution_count": 2,
   "metadata": {
    "id": "bcoRUmDRp0M7"
   },
   "outputs": [
    {
     "ename": "ModuleNotFoundError",
     "evalue": "No module named 'tensorflow'",
     "output_type": "error",
     "traceback": [
      "\u001b[1;31m---------------------------------------------------------------------------\u001b[0m",
      "\u001b[1;31mModuleNotFoundError\u001b[0m                       Traceback (most recent call last)",
      "Input \u001b[1;32mIn [2]\u001b[0m, in \u001b[0;36m<cell line: 1>\u001b[1;34m()\u001b[0m\n\u001b[1;32m----> 1\u001b[0m \u001b[38;5;28;01mfrom\u001b[39;00m \u001b[38;5;21;01mtensorflow\u001b[39;00m\u001b[38;5;21;01m.\u001b[39;00m\u001b[38;5;21;01mkeras\u001b[39;00m\u001b[38;5;21;01m.\u001b[39;00m\u001b[38;5;21;01mpreprocessing\u001b[39;00m\u001b[38;5;21;01m.\u001b[39;00m\u001b[38;5;21;01mimage\u001b[39;00m \u001b[38;5;28;01mimport\u001b[39;00m ImageDataGenerator\n",
      "\u001b[1;31mModuleNotFoundError\u001b[0m: No module named 'tensorflow'"
     ]
    }
   ],
   "source": [
    "from tensorflow.keras.preprocessing.image import ImageDataGenerator"
   ]
  },
  {
   "cell_type": "code",
   "execution_count": 3,
   "metadata": {
    "id": "KlSooNrQp4_v"
   },
   "outputs": [],
   "source": [
    "train_datagen=ImageDataGenerator(rescale=1./255,\n",
    "                                 zoom_range=0.2,\n",
    "                                 horizontal_flip=True)"
   ]
  },
  {
   "cell_type": "code",
   "execution_count": 4,
   "metadata": {
    "id": "Im4JiSRYp-UC"
   },
   "outputs": [],
   "source": [
    "test_datagen=ImageDataGenerator(rescale=1./255)"
   ]
  },
  {
   "cell_type": "code",
   "execution_count": 8,
   "metadata": {
    "colab": {
     "base_uri": "https://localhost:8080/"
    },
    "id": "5PK806yQqC_q",
    "outputId": "397227df-a7aa-46ff-c68e-2a264a1a2bad"
   },
   "outputs": [
    {
     "name": "stdout",
     "output_type": "stream",
     "text": [
      "Found 4317 images belonging to 1 classes.\n"
     ]
    }
   ],
   "source": [
    "xtrain=train_datagen.flow_from_directory('/content/drive/MyDrive/Flowers-Dataset',\n",
    "                                         target_size=(76,76),\n",
    "                                         class_mode='categorical',\n",
    "                                         batch_size=100)"
   ]
  },
  {
   "cell_type": "code",
   "execution_count": 10,
   "metadata": {
    "colab": {
     "base_uri": "https://localhost:8080/"
    },
    "id": "YvpIpqFdqNr5",
    "outputId": "69a8535a-c5cb-4623-81b4-66ed45104ef2"
   },
   "outputs": [
    {
     "name": "stdout",
     "output_type": "stream",
     "text": [
      "Found 4317 images belonging to 1 classes.\n"
     ]
    }
   ],
   "source": [
    "xtest=test_datagen.flow_from_directory('/content/drive/MyDrive/Flowers-Dataset',\n",
    "                                         target_size=(76,76),\n",
    "                                         class_mode='categorical',\n",
    "                                         batch_size=100)"
   ]
  },
  {
   "cell_type": "markdown",
   "metadata": {
    "id": "veiqrCOUq-k3"
   },
   "source": [
    "3.CREAT MODEL"
   ]
  },
  {
   "cell_type": "code",
   "execution_count": 11,
   "metadata": {
    "id": "q78ZFFgZrCPv"
   },
   "outputs": [],
   "source": [
    "from tensorflow.keras.models import Sequential"
   ]
  },
  {
   "cell_type": "code",
   "execution_count": 12,
   "metadata": {
    "id": "q_mDrMMkrQAP"
   },
   "outputs": [],
   "source": [
    "from tensorflow.keras.layers import Convolution2D,MaxPool2D,Flatten,Dense"
   ]
  },
  {
   "cell_type": "markdown",
   "metadata": {
    "id": "Tw_58vsyrRTQ"
   },
   "source": [
    "4.ADD LAYERS"
   ]
  },
  {
   "cell_type": "code",
   "execution_count": 13,
   "metadata": {
    "id": "v4wLWZnMrT8T"
   },
   "outputs": [],
   "source": [
    "model=Sequential()\n",
    "model.add(Convolution2D(32,(3,3),activation='relu',input_shape=(76,76,3)))\n",
    "model.add(MaxPool2D(pool_size=(2,2)))\n",
    "model.add(Flatten())\n",
    "model.add(Dense(300,activation='relu'))\n",
    "model.add(Dense(150,activation='relu'))\n",
    "model.add(Dense(4,activation='softmax'))"
   ]
  },
  {
   "cell_type": "markdown",
   "metadata": {
    "id": "aAHaQPPXraQa"
   },
   "source": [
    "5.COMPILE THE MODEL"
   ]
  },
  {
   "cell_type": "code",
   "execution_count": 14,
   "metadata": {
    "id": "vgClDIXsrdKE"
   },
   "outputs": [],
   "source": [
    "model.compile(optimizer='adam',loss='categorical_crossentropy',metrics=['accuracy'])"
   ]
  },
  {
   "cell_type": "markdown",
   "metadata": {
    "id": "0vqjytbOrjKo"
   },
   "source": [
    "6.FIT THE MODEL"
   ]
  },
  {
   "cell_type": "code",
   "execution_count": 15,
   "metadata": {
    "colab": {
     "base_uri": "https://localhost:8080/"
    },
    "id": "92It89OjrkMK",
    "outputId": "cbcb7672-ae2a-431b-8667-7d2476156725"
   },
   "outputs": [
    {
     "name": "stderr",
     "output_type": "stream",
     "text": [
      "/usr/local/lib/python3.7/dist-packages/ipykernel_launcher.py:4: UserWarning: `Model.fit_generator` is deprecated and will be removed in a future version. Please use `Model.fit`, which supports generators.\n",
      "  after removing the cwd from sys.path.\n"
     ]
    },
    {
     "name": "stdout",
     "output_type": "stream",
     "text": [
      "Epoch 1/10\n",
      "44/44 [==============================] - 1422s 32s/step - loss: 98.6844 - accuracy: 0.1144 - val_loss: 747.6507 - val_accuracy: 0.0000e+00\n",
      "Epoch 2/10\n",
      "44/44 [==============================] - 58s 1s/step - loss: 2036.5842 - accuracy: 0.1621 - val_loss: 5594.6885 - val_accuracy: 0.0000e+00\n",
      "Epoch 3/10\n",
      "44/44 [==============================] - 58s 1s/step - loss: 24083.2168 - accuracy: 0.2316 - val_loss: 31227.2891 - val_accuracy: 0.0000e+00\n",
      "Epoch 4/10\n",
      "44/44 [==============================] - 58s 1s/step - loss: 80326.7266 - accuracy: 0.2548 - val_loss: 101528.6875 - val_accuracy: 0.0000e+00\n",
      "Epoch 5/10\n",
      "44/44 [==============================] - 58s 1s/step - loss: 255532.9531 - accuracy: 0.2316 - val_loss: 495500.6875 - val_accuracy: 1.0000\n",
      "Epoch 6/10\n",
      "44/44 [==============================] - 60s 1s/step - loss: 495693.6562 - accuracy: 0.2548 - val_loss: 449880.2812 - val_accuracy: 0.0000e+00\n",
      "Epoch 7/10\n",
      "44/44 [==============================] - 58s 1s/step - loss: 653121.3750 - accuracy: 0.2548 - val_loss: 852722.4375 - val_accuracy: 0.0000e+00\n",
      "Epoch 8/10\n",
      "44/44 [==============================] - 58s 1s/step - loss: 1082016.5000 - accuracy: 0.2548 - val_loss: 3187793.7500 - val_accuracy: 0.0000e+00\n",
      "Epoch 9/10\n",
      "44/44 [==============================] - 58s 1s/step - loss: 2526664.2500 - accuracy: 0.2780 - val_loss: 4481940.5000 - val_accuracy: 0.0000e+00\n",
      "Epoch 10/10\n",
      "44/44 [==============================] - 58s 1s/step - loss: 2269228.0000 - accuracy: 0.2316 - val_loss: 2319747.2500 - val_accuracy: 0.0000e+00\n"
     ]
    },
    {
     "data": {
      "text/plain": [
       "<keras.callbacks.History at 0x7f7159daab90>"
      ]
     },
     "execution_count": 15,
     "metadata": {},
     "output_type": "execute_result"
    }
   ],
   "source": [
    "model.fit_generator(xtrain,steps_per_epoch= len (xtrain),\n",
    "                    epochs= 10,\n",
    "                    validation_data=xtest,\n",
    "                    validation_steps= len (xtest))"
   ]
  },
  {
   "cell_type": "markdown",
   "metadata": {
    "id": "2Cy5Whr8I49f"
   },
   "source": [
    "7.SAVE THE MODEL"
   ]
  },
  {
   "cell_type": "code",
   "execution_count": 16,
   "metadata": {
    "id": "6o-4bw-lI_qc"
   },
   "outputs": [],
   "source": [
    "model.save('flowers.h5')"
   ]
  },
  {
   "cell_type": "markdown",
   "metadata": {
    "id": "-msiKzgVJByy"
   },
   "source": [
    "8.TESTING THE MODEL"
   ]
  },
  {
   "cell_type": "markdown",
   "metadata": {
    "id": "vQ7Lr73PJJVf"
   },
   "source": [
    "Testing 1"
   ]
  },
  {
   "cell_type": "code",
   "execution_count": 17,
   "metadata": {
    "id": "uNx8sAcqJLRU"
   },
   "outputs": [],
   "source": [
    "from tensorflow.keras.preprocessing import image\n",
    "import numpy as np"
   ]
  },
  {
   "cell_type": "code",
   "execution_count": 20,
   "metadata": {
    "colab": {
     "base_uri": "https://localhost:8080/",
     "height": 93
    },
    "id": "O_jHjO4bJRgX",
    "outputId": "548e13d1-9d34-4465-906f-589f0ac1e27a"
   },
   "outputs": [
    {
     "data": {
      "image/png": "[encoded data removed]",
      "text/plain": [
       "<PIL.Image.Image image mode=RGB size=76x76 at 0x7F7154943F10>"
      ]
     },
     "execution_count": 20,
     "metadata": {},
     "output_type": "execute_result"
    }
   ],
   "source": [
    "img=image.load_img('/content/drive/MyDrive/Flowers-Dataset/flowers/daisy/100080576_f52e8ee070_n.jpg',target_size=(76,76))\n",
    "img"
   ]
  },
  {
   "cell_type": "code",
   "execution_count": 31,
   "metadata": {
    "colab": {
     "base_uri": "https://localhost:8080/",
     "height": 35
    },
    "id": "71pEEEpEJulo",
    "outputId": "65510a93-f9b6-455c-d638-90952f0a1b2d"
   },
   "outputs": [
    {
     "data": {
      "application/vnd.google.colaboratory.intrinsic+json": {
       "type": "string"
      },
      "text/plain": [
       "'daisy'"
      ]
     },
     "execution_count": 31,
     "metadata": {},
     "output_type": "execute_result"
    }
   ],
   "source": [
    "x=image.img_to_array(img)\n",
    "x\n",
    "x=np.expand_dims(x,axis=0)\n",
    "pred=np.argmax(model.predict(x))\n",
    "pred\n",
    "op=['sunflower','dandelion','rose','daisy','tulip']\n",
    "op[pred]"
   ]
  },
  {
   "cell_type": "markdown",
   "metadata": {
    "id": "ZWhF_twvJ2-w"
   },
   "source": [
    "Testing 2"
   ]
  },
  {
   "cell_type": "code",
   "execution_count": 29,
   "metadata": {
    "colab": {
     "base_uri": "https://localhost:8080/",
     "height": 93
    },
    "id": "Ih6lf4RwJ4rA",
    "outputId": "1ef15143-ff56-438a-9568-c99972637c20"
   },
   "outputs": [
    {
     "data": {
      "image/png": "[encoded data removed]",
      "text/plain": [
       "<PIL.Image.Image image mode=RGB size=76x76 at 0x7F7156ABAED0>"
      ]
     },
     "execution_count": 29,
     "metadata": {},
     "output_type": "execute_result"
    }
   ],
   "source": [
    "img=image.load_img('/content/drive/MyDrive/Flowers-Dataset/flowers/sunflower/1008566138_6927679c8a.jpg',target_size=(76,76))\n",
    "img"
   ]
  },
  {
   "cell_type": "code",
   "execution_count": 30,
   "metadata": {
    "colab": {
     "base_uri": "https://localhost:8080/",
     "height": 35
    },
    "id": "1oc8eLSwKeYU",
    "outputId": "44d97e5c-64df-4706-8927-c5a51539affe"
   },
   "outputs": [
    {
     "data": {
      "application/vnd.google.colaboratory.intrinsic+json": {
       "type": "string"
      },
      "text/plain": [
       "'sunflower'"
      ]
     },
     "execution_count": 30,
     "metadata": {},
     "output_type": "execute_result"
    }
   ],
   "source": [
    "x=image.img_to_array(img)\n",
    "x\n",
    "x=np.expand_dims(x,axis=0)\n",
    "pred=np.argmax(model.predict(x))\n",
    "pred\n",
    "op=['daisy','dandelion','rose','sunflower','tulip']\n",
    "op[pred]"
   ]
  },
  {
   "cell_type": "markdown",
   "metadata": {
    "id": "b6fc_W-vLTP_"
   },
   "source": [
    "Testing 3"
   ]
  },
  {
   "cell_type": "code",
   "execution_count": 34,
   "metadata": {
    "colab": {
     "base_uri": "https://localhost:8080/",
     "height": 93
    },
    "id": "Kihrq-CnLVit",
    "outputId": "ad54d2e2-4c3e-4227-b336-415ee68ba35f"
   },
   "outputs": [
    {
     "data": {
      "image/png": "[encoded data removed]",
      "text/plain": [
       "<PIL.Image.Image image mode=RGB size=76x76 at 0x7F7156A87490>"
      ]
     },
     "execution_count": 34,
     "metadata": {},
     "output_type": "execute_result"
    }
   ],
   "source": [
    "img=image.load_img('/content/drive/MyDrive/Flowers-Dataset/flowers/rose/102501987_3cdb8e5394_n.jpg',target_size=(76,76))\n",
    "img"
   ]
  },
  {
   "cell_type": "code",
   "execution_count": 36,
   "metadata": {
    "colab": {
     "base_uri": "https://localhost:8080/",
     "height": 35
    },
    "id": "Xjc8P-o1LlxO",
    "outputId": "371b0d4a-2f42-4f87-8a9d-b7eb189c66eb"
   },
   "outputs": [
    {
     "data": {
      "application/vnd.google.colaboratory.intrinsic+json": {
       "type": "string"
      },
      "text/plain": [
       "'rose'"
      ]
     },
     "execution_count": 36,
     "metadata": {},
     "output_type": "execute_result"
    }
   ],
   "source": [
    "x=image.img_to_array(img)\n",
    "x\n",
    "x=np.expand_dims(x,axis=0)\n",
    "pred=np.argmax(model.predict(x))\n",
    "pred\n",
    "op=['daisy','dandelion','sunflower','rose','tulip']\n",
    "op[pred]"
   ]
  }
 ],
 "metadata": {
  "colab": {
   "collapsed_sections": [],
   "provenance": []
  },
  "kernelspec": {
   "display_name": "Python 3 (ipykernel)",
   "language": "python",
   "name": "python3"
  },
  "language_info": {
   "codemirror_mode": {
    "name": "ipython",
    "version": 3
   },
   "file_extension": ".py",
   "mimetype": "text/x-python",
   "name": "python",
   "nbconvert_exporter": "python",
   "pygments_lexer": "ipython3",
   "version": "3.9.12"
  }
 },
 "nbformat": 4,
 "nbformat_minor": 1
}
