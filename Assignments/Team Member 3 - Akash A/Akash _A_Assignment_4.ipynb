{
 "cells": [
  {
   "cell_type": "markdown",
   "metadata": {
    "id": "HjEfs7MMEsY2"
   },
   "source": [
    "1. Download The Dataset"
   ]
  },
  {
   "cell_type": "markdown",
   "metadata": {
    "id": "gJRUbpSpExeo"
   },
   "source": [
    "https://www.kaggle.com/code/kredy10/simple-lstm-for-text-classification/data"
   ]
  },
  {
   "cell_type": "markdown",
   "metadata": {
    "id": "RDGdBQwbE2R-"
   },
   "source": [
    "2. Import The Required Libraries"
   ]
  },
  {
   "cell_type": "code",
   "execution_count": 1,
   "metadata": {
    "id": "REQPvQ0r6ZpE"
   },
   "outputs": [
    {
     "ename": "ModuleNotFoundError",
     "evalue": "No module named 'wordcloud'",
     "output_type": "error",
     "traceback": [
      "\u001b[1;31m---------------------------------------------------------------------------\u001b[0m",
      "\u001b[1;31mModuleNotFoundError\u001b[0m                       Traceback (most recent call last)",
      "Input \u001b[1;32mIn [1]\u001b[0m, in \u001b[0;36m<cell line: 8>\u001b[1;34m()\u001b[0m\n\u001b[0;32m      6\u001b[0m \u001b[38;5;28;01mfrom\u001b[39;00m \u001b[38;5;21;01mnltk\u001b[39;00m\u001b[38;5;21;01m.\u001b[39;00m\u001b[38;5;21;01mcorpus\u001b[39;00m \u001b[38;5;28;01mimport\u001b[39;00m stopwords\n\u001b[0;32m      7\u001b[0m \u001b[38;5;28;01mfrom\u001b[39;00m \u001b[38;5;21;01mnltk\u001b[39;00m\u001b[38;5;21;01m.\u001b[39;00m\u001b[38;5;21;01mstem\u001b[39;00m \u001b[38;5;28;01mimport\u001b[39;00m WordNetLemmatizer\n\u001b[1;32m----> 8\u001b[0m \u001b[38;5;28;01mfrom\u001b[39;00m \u001b[38;5;21;01mwordcloud\u001b[39;00m \u001b[38;5;28;01mimport\u001b[39;00m WordCloud\n\u001b[0;32m      9\u001b[0m \u001b[38;5;28;01mimport\u001b[39;00m \u001b[38;5;21;01mmatplotlib\u001b[39;00m\u001b[38;5;21;01m.\u001b[39;00m\u001b[38;5;21;01mpyplot\u001b[39;00m \u001b[38;5;28;01mas\u001b[39;00m \u001b[38;5;21;01mplt\u001b[39;00m\n\u001b[0;32m     10\u001b[0m \u001b[38;5;28;01mimport\u001b[39;00m \u001b[38;5;21;01mtensorflow\u001b[39;00m \u001b[38;5;28;01mas\u001b[39;00m \u001b[38;5;21;01mtf\u001b[39;00m\n",
      "\u001b[1;31mModuleNotFoundError\u001b[0m: No module named 'wordcloud'"
     ]
    }
   ],
   "source": [
    "import os\n",
    "import re\n",
    "import pandas as pd\n",
    "import numpy as np\n",
    "import nltk\n",
    "from nltk.corpus import stopwords\n",
    "from nltk.stem import WordNetLemmatizer\n",
    "from wordcloud import WordCloud\n",
    "import matplotlib.pyplot as plt\n",
    "import tensorflow as tf\n",
    "from tensorflow.keras.models import Sequential\n",
    "from tensorflow.keras.layers import Dense, LSTM, Dropout, Embedding\n",
    "from tensorflow.keras.callbacks import EarlyStopping\n",
    "from tensorflow.keras.preprocessing.text import Tokenizer\n",
    "import keras\n",
    "from sklearn.preprocessing import LabelEncoder\n",
    "from sklearn.feature_extraction.text import TfidfVectorizer\n",
    "from sklearn.model_selection import train_test_split\n",
    "from google.colab import drive"
   ]
  },
  {
   "cell_type": "code",
   "execution_count": null,
   "metadata": {
    "colab": {
     "base_uri": "https://localhost:8080/"
    },
    "id": "DnUr70H278AM",
    "outputId": "04e5ff8e-e4e1-4ea9-939d-b81a3f289b33"
   },
   "outputs": [],
   "source": [
    "#Mount and access drive\n",
    "drive.mount('/content/drive',force_remount=True)\n",
    "os.chdir('/content/drive/My Drive')\n",
    "print(\"Change successful.\")"
   ]
  },
  {
   "cell_type": "markdown",
   "metadata": {
    "id": "MfaQxSCfE8Me"
   },
   "source": [
    "3.Read The Dataset And Do Pre-Processing"
   ]
  },
  {
   "cell_type": "code",
   "execution_count": null,
   "metadata": {
    "colab": {
     "base_uri": "https://localhost:8080/",
     "height": 206
    },
    "id": "POd7mtgvE9_z",
    "outputId": "7f09742a-f9e5-41a1-a686-51bc7d6e16e9"
   },
   "outputs": [],
   "source": [
    "spam_df = pd.read_csv(filepath_or_buffer='/content/spam.csv', delimiter=',',encoding='latin-1')\n",
    "spam_df.head()"
   ]
  },
  {
   "cell_type": "code",
   "execution_count": null,
   "metadata": {
    "colab": {
     "base_uri": "https://localhost:8080/"
    },
    "id": "b-LsG7OiFlLI",
    "outputId": "3888a608-2e0c-46d5-dfee-06014750b638"
   },
   "outputs": [],
   "source": [
    "#List the column names\n",
    "spam_df.columns"
   ]
  },
  {
   "cell_type": "code",
   "execution_count": null,
   "metadata": {
    "colab": {
     "base_uri": "https://localhost:8080/"
    },
    "id": "_HtOpnaNFxF_",
    "outputId": "dfe8cc86-5b0a-4c01-b403-3534ecf7294b"
   },
   "outputs": [],
   "source": [
    "#Drop the unnamed columns\n",
    "spam_df.drop(columns=['Unnamed: 2', 'Unnamed: 3', 'Unnamed: 4'], axis=1, inplace=True)\n",
    "spam_df.columns"
   ]
  },
  {
   "cell_type": "code",
   "execution_count": null,
   "metadata": {
    "colab": {
     "base_uri": "https://localhost:8080/"
    },
    "id": "GHBKzefWF1hL",
    "outputId": "6c783cbf-016e-425b-c657-5daa4985b811"
   },
   "outputs": [],
   "source": [
    "#Print the number of rows in the dataset\n",
    "spam_df.shape"
   ]
  },
  {
   "cell_type": "code",
   "execution_count": 2,
   "metadata": {
    "colab": {
     "base_uri": "https://localhost:8080/",
     "height": 175
    },
    "id": "MO1SZYXnF6Dt",
    "outputId": "02d1c683-111f-4389-a485-875f6089f00f"
   },
   "outputs": [
    {
     "ename": "NameError",
     "evalue": "name 'spam_df' is not defined",
     "output_type": "error",
     "traceback": [
      "\u001b[1;31m---------------------------------------------------------------------------\u001b[0m",
      "\u001b[1;31mNameError\u001b[0m                                 Traceback (most recent call last)",
      "Input \u001b[1;32mIn [2]\u001b[0m, in \u001b[0;36m<cell line: 2>\u001b[1;34m()\u001b[0m\n\u001b[0;32m      1\u001b[0m \u001b[38;5;66;03m#Get the summary statistics of the dataset\u001b[39;00m\n\u001b[1;32m----> 2\u001b[0m \u001b[43mspam_df\u001b[49m\u001b[38;5;241m.\u001b[39mdescribe()\n",
      "\u001b[1;31mNameError\u001b[0m: name 'spam_df' is not defined"
     ]
    }
   ],
   "source": [
    "#Get the summary statistics of the dataset\n",
    "spam_df.describe()"
   ]
  },
  {
   "cell_type": "code",
   "execution_count": 3,
   "metadata": {
    "colab": {
     "base_uri": "https://localhost:8080/"
    },
    "id": "b_rFXYNvF-qY",
    "outputId": "10db8a4f-0603-403c-d1bc-4c7e8c57fbb9"
   },
   "outputs": [
    {
     "ename": "NameError",
     "evalue": "name 'spam_df' is not defined",
     "output_type": "error",
     "traceback": [
      "\u001b[1;31m---------------------------------------------------------------------------\u001b[0m",
      "\u001b[1;31mNameError\u001b[0m                                 Traceback (most recent call last)",
      "Input \u001b[1;32mIn [3]\u001b[0m, in \u001b[0;36m<cell line: 2>\u001b[1;34m()\u001b[0m\n\u001b[0;32m      1\u001b[0m \u001b[38;5;66;03m#Check for null values\u001b[39;00m\n\u001b[1;32m----> 2\u001b[0m \u001b[43mspam_df\u001b[49m\u001b[38;5;241m.\u001b[39misna()\u001b[38;5;241m.\u001b[39msum()\n",
      "\u001b[1;31mNameError\u001b[0m: name 'spam_df' is not defined"
     ]
    }
   ],
   "source": [
    "#Check for null values\n",
    "spam_df.isna().sum()"
   ]
  },
  {
   "cell_type": "code",
   "execution_count": 4,
   "metadata": {
    "colab": {
     "base_uri": "https://localhost:8080/"
    },
    "id": "mtKEqgErP1P3",
    "outputId": "a9f4935a-76b8-4cda-f7b5-4b687f123122"
   },
   "outputs": [
    {
     "ename": "NameError",
     "evalue": "name 'spam_df' is not defined",
     "output_type": "error",
     "traceback": [
      "\u001b[1;31m---------------------------------------------------------------------------\u001b[0m",
      "\u001b[1;31mNameError\u001b[0m                                 Traceback (most recent call last)",
      "Input \u001b[1;32mIn [4]\u001b[0m, in \u001b[0;36m<cell line: 2>\u001b[1;34m()\u001b[0m\n\u001b[0;32m      1\u001b[0m \u001b[38;5;66;03m#Check for duplicated rows\u001b[39;00m\n\u001b[1;32m----> 2\u001b[0m \u001b[43mspam_df\u001b[49m\u001b[38;5;241m.\u001b[39mduplicated()\u001b[38;5;241m.\u001b[39msum()\n",
      "\u001b[1;31mNameError\u001b[0m: name 'spam_df' is not defined"
     ]
    }
   ],
   "source": [
    "#Check for duplicated rows\n",
    "spam_df.duplicated().sum()"
   ]
  },
  {
   "cell_type": "code",
   "execution_count": 5,
   "metadata": {
    "colab": {
     "base_uri": "https://localhost:8080/"
    },
    "id": "gU3S6KSjP46c",
    "outputId": "bfbc751c-ddae-493d-b348-f8e476c09aa8"
   },
   "outputs": [
    {
     "ename": "NameError",
     "evalue": "name 'spam_df' is not defined",
     "output_type": "error",
     "traceback": [
      "\u001b[1;31m---------------------------------------------------------------------------\u001b[0m",
      "\u001b[1;31mNameError\u001b[0m                                 Traceback (most recent call last)",
      "Input \u001b[1;32mIn [5]\u001b[0m, in \u001b[0;36m<cell line: 2>\u001b[1;34m()\u001b[0m\n\u001b[0;32m      1\u001b[0m \u001b[38;5;66;03m#Remove the duplicated rows\u001b[39;00m\n\u001b[1;32m----> 2\u001b[0m spam_df \u001b[38;5;241m=\u001b[39m \u001b[43mspam_df\u001b[49m\u001b[38;5;241m.\u001b[39mdrop_duplicates()\n\u001b[0;32m      3\u001b[0m spam_df\u001b[38;5;241m.\u001b[39mduplicated()\u001b[38;5;241m.\u001b[39msum()\n",
      "\u001b[1;31mNameError\u001b[0m: name 'spam_df' is not defined"
     ]
    }
   ],
   "source": [
    "#Remove the duplicated rows\n",
    "spam_df = spam_df.drop_duplicates()\n",
    "spam_df.duplicated().sum()"
   ]
  },
  {
   "cell_type": "code",
   "execution_count": 6,
   "metadata": {
    "colab": {
     "base_uri": "https://localhost:8080/",
     "height": 282
    },
    "id": "-pmuK7g7P8bZ",
    "outputId": "6016111b-cae2-44a7-a644-6afb4062d607"
   },
   "outputs": [
    {
     "ename": "NameError",
     "evalue": "name 'spam_df' is not defined",
     "output_type": "error",
     "traceback": [
      "\u001b[1;31m---------------------------------------------------------------------------\u001b[0m",
      "\u001b[1;31mNameError\u001b[0m                                 Traceback (most recent call last)",
      "Input \u001b[1;32mIn [6]\u001b[0m, in \u001b[0;36m<cell line: 2>\u001b[1;34m()\u001b[0m\n\u001b[0;32m      1\u001b[0m \u001b[38;5;66;03m#Display the count of spam and ham labels and Stratified-split is required\u001b[39;00m\n\u001b[1;32m----> 2\u001b[0m \u001b[43mspam_df\u001b[49m[\u001b[38;5;124m'\u001b[39m\u001b[38;5;124mv1\u001b[39m\u001b[38;5;124m'\u001b[39m]\u001b[38;5;241m.\u001b[39mhist(bins\u001b[38;5;241m=\u001b[39m\u001b[38;5;241m3\u001b[39m)\n",
      "\u001b[1;31mNameError\u001b[0m: name 'spam_df' is not defined"
     ]
    }
   ],
   "source": [
    "#Display the count of spam and ham labels and Stratified-split is required\n",
    "spam_df['v1'].hist(bins=3)"
   ]
  },
  {
   "cell_type": "code",
   "execution_count": 7,
   "metadata": {
    "id": "wAbWWQe4QAnW"
   },
   "outputs": [],
   "source": [
    "def wordcloud_vis(column):\n",
    "  mostcommon = nltk.FreqDist(spam_df[column]).most_common(100)\n",
    "  wordcloud = WordCloud(width=1600, height=800, background_color='white').generate(str(mostcommon))\n",
    "  fig = plt.figure(figsize=(30,10), facecolor='white')\n",
    "  plt.imshow(wordcloud) #, interpolation=\"bilinear\")\n",
    "  plt.axis('off')\n",
    "  plt.show()"
   ]
  },
  {
   "cell_type": "code",
   "execution_count": 8,
   "metadata": {
    "colab": {
     "base_uri": "https://localhost:8080/",
     "height": 476
    },
    "id": "b3PiHxB7QExd",
    "outputId": "71d92ccc-3064-443f-8a70-afeb9f897cca"
   },
   "outputs": [
    {
     "ename": "NameError",
     "evalue": "name 'spam_df' is not defined",
     "output_type": "error",
     "traceback": [
      "\u001b[1;31m---------------------------------------------------------------------------\u001b[0m",
      "\u001b[1;31mNameError\u001b[0m                                 Traceback (most recent call last)",
      "Input \u001b[1;32mIn [8]\u001b[0m, in \u001b[0;36m<cell line: 2>\u001b[1;34m()\u001b[0m\n\u001b[0;32m      1\u001b[0m \u001b[38;5;66;03m#Plot the word-cloud before removing stopwords, performing lemmatization\u001b[39;00m\n\u001b[1;32m----> 2\u001b[0m \u001b[43mwordcloud_vis\u001b[49m\u001b[43m(\u001b[49m\u001b[38;5;124;43m'\u001b[39;49m\u001b[38;5;124;43mv2\u001b[39;49m\u001b[38;5;124;43m'\u001b[39;49m\u001b[43m)\u001b[49m\n",
      "Input \u001b[1;32mIn [7]\u001b[0m, in \u001b[0;36mwordcloud_vis\u001b[1;34m(column)\u001b[0m\n\u001b[0;32m      1\u001b[0m \u001b[38;5;28;01mdef\u001b[39;00m \u001b[38;5;21mwordcloud_vis\u001b[39m(column):\n\u001b[1;32m----> 2\u001b[0m   mostcommon \u001b[38;5;241m=\u001b[39m nltk\u001b[38;5;241m.\u001b[39mFreqDist(\u001b[43mspam_df\u001b[49m[column])\u001b[38;5;241m.\u001b[39mmost_common(\u001b[38;5;241m100\u001b[39m)\n\u001b[0;32m      3\u001b[0m   wordcloud \u001b[38;5;241m=\u001b[39m WordCloud(width\u001b[38;5;241m=\u001b[39m\u001b[38;5;241m1600\u001b[39m, height\u001b[38;5;241m=\u001b[39m\u001b[38;5;241m800\u001b[39m, background_color\u001b[38;5;241m=\u001b[39m\u001b[38;5;124m'\u001b[39m\u001b[38;5;124mwhite\u001b[39m\u001b[38;5;124m'\u001b[39m)\u001b[38;5;241m.\u001b[39mgenerate(\u001b[38;5;28mstr\u001b[39m(mostcommon))\n\u001b[0;32m      4\u001b[0m   fig \u001b[38;5;241m=\u001b[39m plt\u001b[38;5;241m.\u001b[39mfigure(figsize\u001b[38;5;241m=\u001b[39m(\u001b[38;5;241m30\u001b[39m,\u001b[38;5;241m10\u001b[39m), facecolor\u001b[38;5;241m=\u001b[39m\u001b[38;5;124m'\u001b[39m\u001b[38;5;124mwhite\u001b[39m\u001b[38;5;124m'\u001b[39m)\n",
      "\u001b[1;31mNameError\u001b[0m: name 'spam_df' is not defined"
     ]
    }
   ],
   "source": [
    "#Plot the word-cloud before removing stopwords, performing lemmatization\n",
    "wordcloud_vis('v2')"
   ]
  },
  {
   "cell_type": "code",
   "execution_count": 9,
   "metadata": {
    "colab": {
     "base_uri": "https://localhost:8080/",
     "height": 206
    },
    "id": "5p5lVHb9QXdX",
    "outputId": "f2256aef-f640-45f2-d769-7b2a1c59b415"
   },
   "outputs": [
    {
     "ename": "NameError",
     "evalue": "name 'spam_df' is not defined",
     "output_type": "error",
     "traceback": [
      "\u001b[1;31m---------------------------------------------------------------------------\u001b[0m",
      "\u001b[1;31mNameError\u001b[0m                                 Traceback (most recent call last)",
      "Input \u001b[1;32mIn [9]\u001b[0m, in \u001b[0;36m<cell line: 2>\u001b[1;34m()\u001b[0m\n\u001b[0;32m      1\u001b[0m \u001b[38;5;66;03m#Retain only the letters and spaces\u001b[39;00m\n\u001b[1;32m----> 2\u001b[0m spam_df[\u001b[38;5;124m'\u001b[39m\u001b[38;5;124malpha_text\u001b[39m\u001b[38;5;124m'\u001b[39m] \u001b[38;5;241m=\u001b[39m \u001b[43mspam_df\u001b[49m[\u001b[38;5;124m'\u001b[39m\u001b[38;5;124mv2\u001b[39m\u001b[38;5;124m'\u001b[39m]\u001b[38;5;241m.\u001b[39mapply(\u001b[38;5;28;01mlambda\u001b[39;00m x: re\u001b[38;5;241m.\u001b[39msub(\u001b[38;5;124mr\u001b[39m\u001b[38;5;124m'\u001b[39m\u001b[38;5;124m[^a-zA-Z ]+\u001b[39m\u001b[38;5;124m'\u001b[39m, \u001b[38;5;124m'\u001b[39m\u001b[38;5;124m'\u001b[39m, x\u001b[38;5;241m.\u001b[39mlower()))\n\u001b[0;32m      3\u001b[0m spam_df\u001b[38;5;241m.\u001b[39mhead()\n",
      "\u001b[1;31mNameError\u001b[0m: name 'spam_df' is not defined"
     ]
    }
   ],
   "source": [
    "#Retain only the letters and spaces\n",
    "spam_df['alpha_text'] = spam_df['v2'].apply(lambda x: re.sub(r'[^a-zA-Z ]+', '', x.lower()))\n",
    "spam_df.head()"
   ]
  },
  {
   "cell_type": "code",
   "execution_count": 10,
   "metadata": {
    "colab": {
     "base_uri": "https://localhost:8080/",
     "height": 354
    },
    "id": "RYcFC13AQa9D",
    "outputId": "cce00ff1-411d-411a-9f2f-cb3a1753d552"
   },
   "outputs": [
    {
     "name": "stderr",
     "output_type": "stream",
     "text": [
      "[nltk_data] Error loading stopwords: <urlopen error [Errno 11001]\n",
      "[nltk_data]     getaddrinfo failed>\n"
     ]
    },
    {
     "ename": "NameError",
     "evalue": "name 'spam_df' is not defined",
     "output_type": "error",
     "traceback": [
      "\u001b[1;31m---------------------------------------------------------------------------\u001b[0m",
      "\u001b[1;31mNameError\u001b[0m                                 Traceback (most recent call last)",
      "Input \u001b[1;32mIn [10]\u001b[0m, in \u001b[0;36m<cell line: 3>\u001b[1;34m()\u001b[0m\n\u001b[0;32m      1\u001b[0m \u001b[38;5;66;03m#Remove stop-words\u001b[39;00m\n\u001b[0;32m      2\u001b[0m nltk\u001b[38;5;241m.\u001b[39mdownload(\u001b[38;5;124m'\u001b[39m\u001b[38;5;124mstopwords\u001b[39m\u001b[38;5;124m'\u001b[39m)\n\u001b[1;32m----> 3\u001b[0m spam_df[\u001b[38;5;124m'\u001b[39m\u001b[38;5;124mimp_text\u001b[39m\u001b[38;5;124m'\u001b[39m] \u001b[38;5;241m=\u001b[39m \u001b[43mspam_df\u001b[49m[\u001b[38;5;124m'\u001b[39m\u001b[38;5;124malpha_text\u001b[39m\u001b[38;5;124m'\u001b[39m]\u001b[38;5;241m.\u001b[39mapply(\u001b[38;5;28;01mlambda\u001b[39;00m x : \u001b[38;5;124m'\u001b[39m\u001b[38;5;124m \u001b[39m\u001b[38;5;124m'\u001b[39m\u001b[38;5;241m.\u001b[39mjoin([word \u001b[38;5;28;01mfor\u001b[39;00m word \u001b[38;5;129;01min\u001b[39;00m x\u001b[38;5;241m.\u001b[39msplit() \u001b[38;5;28;01mif\u001b[39;00m \u001b[38;5;129;01mnot\u001b[39;00m word \u001b[38;5;129;01min\u001b[39;00m \u001b[38;5;28mset\u001b[39m(stopwords\u001b[38;5;241m.\u001b[39mwords(\u001b[38;5;124m'\u001b[39m\u001b[38;5;124menglish\u001b[39m\u001b[38;5;124m'\u001b[39m))]))\n\u001b[0;32m      4\u001b[0m spam_df\u001b[38;5;241m.\u001b[39mhead()\n",
      "\u001b[1;31mNameError\u001b[0m: name 'spam_df' is not defined"
     ]
    }
   ],
   "source": [
    "#Remove stop-words\n",
    "nltk.download('stopwords')\n",
    "spam_df['imp_text'] = spam_df['alpha_text'].apply(lambda x : ' '.join([word for word in x.split() if not word in set(stopwords.words('english'))]))\n",
    "spam_df.head()"
   ]
  },
  {
   "cell_type": "code",
   "execution_count": 11,
   "metadata": {
    "colab": {
     "base_uri": "https://localhost:8080/",
     "height": 320
    },
    "id": "37pTudkCQgqP",
    "outputId": "05baf62c-77a1-475e-b403-55137bf9731c"
   },
   "outputs": [
    {
     "ename": "NameError",
     "evalue": "name 'spam_df' is not defined",
     "output_type": "error",
     "traceback": [
      "\u001b[1;31m---------------------------------------------------------------------------\u001b[0m",
      "\u001b[1;31mNameError\u001b[0m                                 Traceback (most recent call last)",
      "Input \u001b[1;32mIn [11]\u001b[0m, in \u001b[0;36m<cell line: 5>\u001b[1;34m()\u001b[0m\n\u001b[0;32m      3\u001b[0m   generated_token \u001b[38;5;241m=\u001b[39m \u001b[38;5;28mlist\u001b[39m(data\u001b[38;5;241m.\u001b[39msplit())\n\u001b[0;32m      4\u001b[0m   \u001b[38;5;28;01mreturn\u001b[39;00m generated_token\n\u001b[1;32m----> 5\u001b[0m spam_df[\u001b[38;5;124m'\u001b[39m\u001b[38;5;124mtoken_text\u001b[39m\u001b[38;5;124m'\u001b[39m] \u001b[38;5;241m=\u001b[39m \u001b[43mspam_df\u001b[49m[\u001b[38;5;124m'\u001b[39m\u001b[38;5;124mimp_text\u001b[39m\u001b[38;5;124m'\u001b[39m]\u001b[38;5;241m.\u001b[39mapply(\u001b[38;5;28;01mlambda\u001b[39;00m x: tokenize(x))\n\u001b[0;32m      6\u001b[0m spam_df\u001b[38;5;241m.\u001b[39mhead()\n",
      "\u001b[1;31mNameError\u001b[0m: name 'spam_df' is not defined"
     ]
    }
   ],
   "source": [
    "#Tokenize the data\n",
    "def tokenize(data):\n",
    "  generated_token = list(data.split())\n",
    "  return generated_token\n",
    "spam_df['token_text'] = spam_df['imp_text'].apply(lambda x: tokenize(x))\n",
    "spam_df.head()"
   ]
  },
  {
   "cell_type": "code",
   "execution_count": 12,
   "metadata": {
    "colab": {
     "base_uri": "https://localhost:8080/",
     "height": 441
    },
    "id": "igIP_mAvQp1v",
    "outputId": "79dc6a5c-80c9-485d-b4f1-466c4bcda94a"
   },
   "outputs": [
    {
     "name": "stderr",
     "output_type": "stream",
     "text": [
      "[nltk_data] Error loading wordnet: <urlopen error [Errno 11001]\n",
      "[nltk_data]     getaddrinfo failed>\n",
      "[nltk_data] Error loading omw-1.4: <urlopen error [Errno 11001]\n",
      "[nltk_data]     getaddrinfo failed>\n"
     ]
    },
    {
     "ename": "NameError",
     "evalue": "name 'spam_df' is not defined",
     "output_type": "error",
     "traceback": [
      "\u001b[1;31m---------------------------------------------------------------------------\u001b[0m",
      "\u001b[1;31mNameError\u001b[0m                                 Traceback (most recent call last)",
      "Input \u001b[1;32mIn [12]\u001b[0m, in \u001b[0;36m<cell line: 8>\u001b[1;34m()\u001b[0m\n\u001b[0;32m      6\u001b[0m   lemmatized_list \u001b[38;5;241m=\u001b[39m [lemmatizer\u001b[38;5;241m.\u001b[39mlemmatize(word) \u001b[38;5;28;01mfor\u001b[39;00m word \u001b[38;5;129;01min\u001b[39;00m list_of_words]\n\u001b[0;32m      7\u001b[0m   \u001b[38;5;28;01mreturn\u001b[39;00m lemmatized_list\n\u001b[1;32m----> 8\u001b[0m spam_df[\u001b[38;5;124m'\u001b[39m\u001b[38;5;124mlemmatized_text\u001b[39m\u001b[38;5;124m'\u001b[39m] \u001b[38;5;241m=\u001b[39m \u001b[43mspam_df\u001b[49m[\u001b[38;5;124m'\u001b[39m\u001b[38;5;124mtoken_text\u001b[39m\u001b[38;5;124m'\u001b[39m]\u001b[38;5;241m.\u001b[39mapply(\u001b[38;5;28;01mlambda\u001b[39;00m x: lemmatization(x))\n\u001b[0;32m      9\u001b[0m spam_df\u001b[38;5;241m.\u001b[39mhead()\n",
      "\u001b[1;31mNameError\u001b[0m: name 'spam_df' is not defined"
     ]
    }
   ],
   "source": [
    "#Perform lemmatization\n",
    "nltk.download('wordnet')\n",
    "nltk.download('omw-1.4')\n",
    "lemmatizer = WordNetLemmatizer()\n",
    "def lemmatization(list_of_words):\n",
    "  lemmatized_list = [lemmatizer.lemmatize(word) for word in list_of_words]\n",
    "  return lemmatized_list\n",
    "spam_df['lemmatized_text'] = spam_df['token_text'].apply(lambda x: lemmatization(x))\n",
    "spam_df.head()"
   ]
  },
  {
   "cell_type": "code",
   "execution_count": 13,
   "metadata": {
    "colab": {
     "base_uri": "https://localhost:8080/",
     "height": 406
    },
    "id": "ZPmHBH67Qudz",
    "outputId": "3f27fdec-8b90-4cc9-f530-6977d26a5822"
   },
   "outputs": [
    {
     "ename": "NameError",
     "evalue": "name 'spam_df' is not defined",
     "output_type": "error",
     "traceback": [
      "\u001b[1;31m---------------------------------------------------------------------------\u001b[0m",
      "\u001b[1;31mNameError\u001b[0m                                 Traceback (most recent call last)",
      "Input \u001b[1;32mIn [13]\u001b[0m, in \u001b[0;36m<cell line: 2>\u001b[1;34m()\u001b[0m\n\u001b[0;32m      1\u001b[0m \u001b[38;5;66;03m#Combine the tokens (into sentences) to get the final cleansed data\u001b[39;00m\n\u001b[1;32m----> 2\u001b[0m spam_df[\u001b[38;5;124m'\u001b[39m\u001b[38;5;124mclean\u001b[39m\u001b[38;5;124m'\u001b[39m] \u001b[38;5;241m=\u001b[39m \u001b[43mspam_df\u001b[49m[\u001b[38;5;124m'\u001b[39m\u001b[38;5;124mlemmatized_text\u001b[39m\u001b[38;5;124m'\u001b[39m]\u001b[38;5;241m.\u001b[39mapply(\u001b[38;5;28;01mlambda\u001b[39;00m x: \u001b[38;5;124m'\u001b[39m\u001b[38;5;124m \u001b[39m\u001b[38;5;124m'\u001b[39m\u001b[38;5;241m.\u001b[39mjoin(x))\n\u001b[0;32m      3\u001b[0m spam_df\u001b[38;5;241m.\u001b[39mhead()\n",
      "\u001b[1;31mNameError\u001b[0m: name 'spam_df' is not defined"
     ]
    }
   ],
   "source": [
    "#Combine the tokens (into sentences) to get the final cleansed data\n",
    "spam_df['clean'] = spam_df['lemmatized_text'].apply(lambda x: ' '.join(x))\n",
    "spam_df.head()"
   ]
  },
  {
   "cell_type": "code",
   "execution_count": 14,
   "metadata": {
    "colab": {
     "base_uri": "https://localhost:8080/",
     "height": 476
    },
    "id": "qRJvgUYuQz1B",
    "outputId": "f3af41bd-418e-4904-a3db-6b3de0d0c5fa"
   },
   "outputs": [
    {
     "ename": "NameError",
     "evalue": "name 'spam_df' is not defined",
     "output_type": "error",
     "traceback": [
      "\u001b[1;31m---------------------------------------------------------------------------\u001b[0m",
      "\u001b[1;31mNameError\u001b[0m                                 Traceback (most recent call last)",
      "Input \u001b[1;32mIn [14]\u001b[0m, in \u001b[0;36m<cell line: 2>\u001b[1;34m()\u001b[0m\n\u001b[0;32m      1\u001b[0m \u001b[38;5;66;03m#Display the word cloud after preprocessing\u001b[39;00m\n\u001b[1;32m----> 2\u001b[0m \u001b[43mwordcloud_vis\u001b[49m\u001b[43m(\u001b[49m\u001b[38;5;124;43m'\u001b[39;49m\u001b[38;5;124;43mclean\u001b[39;49m\u001b[38;5;124;43m'\u001b[39;49m\u001b[43m)\u001b[49m\n",
      "Input \u001b[1;32mIn [7]\u001b[0m, in \u001b[0;36mwordcloud_vis\u001b[1;34m(column)\u001b[0m\n\u001b[0;32m      1\u001b[0m \u001b[38;5;28;01mdef\u001b[39;00m \u001b[38;5;21mwordcloud_vis\u001b[39m(column):\n\u001b[1;32m----> 2\u001b[0m   mostcommon \u001b[38;5;241m=\u001b[39m nltk\u001b[38;5;241m.\u001b[39mFreqDist(\u001b[43mspam_df\u001b[49m[column])\u001b[38;5;241m.\u001b[39mmost_common(\u001b[38;5;241m100\u001b[39m)\n\u001b[0;32m      3\u001b[0m   wordcloud \u001b[38;5;241m=\u001b[39m WordCloud(width\u001b[38;5;241m=\u001b[39m\u001b[38;5;241m1600\u001b[39m, height\u001b[38;5;241m=\u001b[39m\u001b[38;5;241m800\u001b[39m, background_color\u001b[38;5;241m=\u001b[39m\u001b[38;5;124m'\u001b[39m\u001b[38;5;124mwhite\u001b[39m\u001b[38;5;124m'\u001b[39m)\u001b[38;5;241m.\u001b[39mgenerate(\u001b[38;5;28mstr\u001b[39m(mostcommon))\n\u001b[0;32m      4\u001b[0m   fig \u001b[38;5;241m=\u001b[39m plt\u001b[38;5;241m.\u001b[39mfigure(figsize\u001b[38;5;241m=\u001b[39m(\u001b[38;5;241m30\u001b[39m,\u001b[38;5;241m10\u001b[39m), facecolor\u001b[38;5;241m=\u001b[39m\u001b[38;5;124m'\u001b[39m\u001b[38;5;124mwhite\u001b[39m\u001b[38;5;124m'\u001b[39m)\n",
      "\u001b[1;31mNameError\u001b[0m: name 'spam_df' is not defined"
     ]
    }
   ],
   "source": [
    "#Display the word cloud after preprocessing\n",
    "wordcloud_vis('clean')"
   ]
  },
  {
   "cell_type": "code",
   "execution_count": 28,
   "metadata": {
    "colab": {
     "base_uri": "https://localhost:8080/"
    },
    "id": "UjSuDdTDQ8Rj",
    "outputId": "ed5bb318-286f-43ca-d7fd-94ee13846d7e"
   },
   "outputs": [
    {
     "name": "stdout",
     "output_type": "stream",
     "text": [
      "Number of unique words in spam 2037\n",
      "Number of unique words in ham 6738\n"
     ]
    }
   ],
   "source": [
    "#Number of unique words in spam and ham\n",
    "df1 = spam_df.loc[spam_df['v1'] == 'spam']\n",
    "df2 = spam_df.loc[spam_df['v1'] == 'ham']\n",
    "\n",
    "spam = set()\n",
    "df1['clean'].str.lower().str.split().apply(spam.update)\n",
    "print(\"Number of unique words in spam\", len(spam))\n",
    "\n",
    "ham = set()\n",
    "df2['clean'].str.lower().str.split().apply(ham.update)\n",
    "print(\"Number of unique words in ham\", len(ham))"
   ]
  },
  {
   "cell_type": "code",
   "execution_count": 29,
   "metadata": {
    "colab": {
     "base_uri": "https://localhost:8080/"
    },
    "id": "UO4rRa98RBJZ",
    "outputId": "b5937432-1f30-400e-e69c-26f404a23c38"
   },
   "outputs": [
    {
     "name": "stdout",
     "output_type": "stream",
     "text": [
      "Number of overlapping words between spam and ham:  895\n"
     ]
    }
   ],
   "source": [
    "#Find the number of overlapping words between spam and ham labels\n",
    "print(\"Number of overlapping words between spam and ham: \", len(spam & ham))"
   ]
  },
  {
   "cell_type": "code",
   "execution_count": 30,
   "metadata": {
    "colab": {
     "base_uri": "https://localhost:8080/"
    },
    "id": "oGvAP_HsRFJN",
    "outputId": "423403e5-3772-41e9-d101-44ee2809005a"
   },
   "outputs": [
    {
     "data": {
      "text/plain": [
       "80"
      ]
     },
     "execution_count": 30,
     "metadata": {},
     "output_type": "execute_result"
    }
   ],
   "source": [
    "#Maximum number of words in a sentence and Useful for applying padding\n",
    "spam_df['clean'].apply(lambda x:len(str(x).split())).max()"
   ]
  },
  {
   "cell_type": "code",
   "execution_count": 31,
   "metadata": {
    "id": "VdSg82-DRF4U"
   },
   "outputs": [],
   "source": [
    "#Prepare the data for training\n",
    "X = spam_df['clean']\n",
    "y = spam_df['v1']"
   ]
  },
  {
   "cell_type": "code",
   "execution_count": 32,
   "metadata": {
    "colab": {
     "base_uri": "https://localhost:8080/"
    },
    "id": "UTJBJlQGROCE",
    "outputId": "37f630b0-ad76-4e7e-d42a-da6db184a30c"
   },
   "outputs": [
    {
     "data": {
      "text/plain": [
       "array([0, 0, 1, ..., 0, 0, 0])"
      ]
     },
     "execution_count": 32,
     "metadata": {},
     "output_type": "execute_result"
    }
   ],
   "source": [
    "#Convert the class labels into integer values\n",
    "le = LabelEncoder()\n",
    "y = le.fit_transform(y)\n",
    "y"
   ]
  },
  {
   "cell_type": "code",
   "execution_count": 33,
   "metadata": {
    "colab": {
     "base_uri": "https://localhost:8080/"
    },
    "id": "HF95odkDRSIe",
    "outputId": "66b8e700-8ec5-47c0-e32c-de0129b9a170"
   },
   "outputs": [
    {
     "data": {
      "text/plain": [
       "(5169,)"
      ]
     },
     "execution_count": 33,
     "metadata": {},
     "output_type": "execute_result"
    }
   ],
   "source": [
    "X.shape"
   ]
  },
  {
   "cell_type": "code",
   "execution_count": 34,
   "metadata": {
    "colab": {
     "base_uri": "https://localhost:8080/"
    },
    "id": "PCyAFKicRYUT",
    "outputId": "e220b69d-8456-4332-c32b-9340b11d5526"
   },
   "outputs": [
    {
     "data": {
      "text/plain": [
       "(5169,)"
      ]
     },
     "execution_count": 34,
     "metadata": {},
     "output_type": "execute_result"
    }
   ],
   "source": [
    "y.shape"
   ]
  },
  {
   "cell_type": "code",
   "execution_count": 53,
   "metadata": {
    "id": "71hwkk4YRaAn"
   },
   "outputs": [],
   "source": [
    "#Split the data into train, test\n",
    "X_train, X_test, y_train, y_test = train_test_split(X, y, test_size=0.15, random_state=42, stratify=y)"
   ]
  },
  {
   "cell_type": "code",
   "execution_count": 54,
   "metadata": {
    "id": "lKYOY-z9ReAg"
   },
   "outputs": [],
   "source": [
    "tokenizer = Tokenizer(num_words=1000)\n",
    "tokenizer.fit_on_texts(X_train)\n",
    "tokenized_train = tokenizer.texts_to_sequences(X_train)\n",
    "X_train = tf.keras.utils.pad_sequences(tokenized_train, maxlen=100)\n",
    "tokenized_test = tokenizer.texts_to_sequences(X_test)\n",
    "X_test = tf.keras.utils.pad_sequences(tokenized_test, maxlen=100)"
   ]
  },
  {
   "cell_type": "markdown",
   "metadata": {
    "id": "lm6t2rYERoQi"
   },
   "source": [
    "4. Create The Model"
   ]
  },
  {
   "cell_type": "code",
   "execution_count": 37,
   "metadata": {
    "id": "H1QjR3ZMRkmq"
   },
   "outputs": [],
   "source": [
    "#Create a wrapper to add layers to the model\n",
    "model = Sequential()"
   ]
  },
  {
   "cell_type": "markdown",
   "metadata": {
    "id": "5BTE5TNqRvnW"
   },
   "source": [
    "5. Add Layers (LSTM, Dense-(Hidden Layers), Output)"
   ]
  },
  {
   "cell_type": "code",
   "execution_count": 38,
   "metadata": {
    "colab": {
     "base_uri": "https://localhost:8080/"
    },
    "id": "bbzc54vLRwTa",
    "outputId": "8d602bd8-b128-4025-ec63-897b411f3450"
   },
   "outputs": [
    {
     "name": "stdout",
     "output_type": "stream",
     "text": [
      "Model: \"sequential\"\n",
      "_________________________________________________________________\n",
      " Layer (type)                Output Shape              Param #   \n",
      "=================================================================\n",
      " embedding (Embedding)       (None, 100, 50)           50000     \n",
      "                                                                 \n",
      " lstm (LSTM)                 (None, 100, 64)           29440     \n",
      "                                                                 \n",
      " lstm_1 (LSTM)               (None, 32)                12416     \n",
      "                                                                 \n",
      " dense (Dense)               (None, 64)                2112      \n",
      "                                                                 \n",
      " dense_1 (Dense)             (None, 32)                2080      \n",
      "                                                                 \n",
      " dense_2 (Dense)             (None, 1)                 33        \n",
      "                                                                 \n",
      "=================================================================\n",
      "Total params: 96,081\n",
      "Trainable params: 96,081\n",
      "Non-trainable params: 0\n",
      "_________________________________________________________________\n"
     ]
    }
   ],
   "source": [
    "model.add(Embedding(1000, output_dim=50, input_length=100))\n",
    "model.add(LSTM(units=64 , return_sequences = True, dropout = 0.2))\n",
    "model.add(LSTM(units=32 , dropout = 0.1))\n",
    "model.add(Dense(units = 64 , activation = 'relu'))\n",
    "model.add(Dense(units = 32 , activation = 'relu'))\n",
    "model.add(Dense(1, activation='sigmoid'))\n",
    "model.summary()"
   ]
  },
  {
   "cell_type": "markdown",
   "metadata": {
    "id": "woPtIZ0MR31V"
   },
   "source": [
    "6. Compile The Model"
   ]
  },
  {
   "cell_type": "code",
   "execution_count": 39,
   "metadata": {
    "id": "G6dIHg10R4qw"
   },
   "outputs": [],
   "source": [
    "model.compile(optimizer='adam', loss='binary_crossentropy', metrics=['accuracy'])"
   ]
  },
  {
   "cell_type": "markdown",
   "metadata": {
    "id": "z4AD01ofR_Ir"
   },
   "source": [
    "7. Fit The Model"
   ]
  },
  {
   "cell_type": "code",
   "execution_count": 58,
   "metadata": {
    "colab": {
     "base_uri": "https://localhost:8080/"
    },
    "id": "tT4c4BRCR-vN",
    "outputId": "cd25bd3e-edbe-46eb-a936-a9dbb4c557f7"
   },
   "outputs": [
    {
     "name": "stdout",
     "output_type": "stream",
     "text": [
      "Epoch 1/10\n",
      "28/28 [==============================] - 7s 242ms/step - loss: 0.0057 - accuracy: 0.9986 - val_loss: 0.1574 - val_accuracy: 0.9716\n",
      "Epoch 2/10\n",
      "28/28 [==============================] - 7s 240ms/step - loss: 0.0047 - accuracy: 0.9986 - val_loss: 0.1487 - val_accuracy: 0.9738\n",
      "Epoch 3/10\n",
      "28/28 [==============================] - 7s 238ms/step - loss: 0.0037 - accuracy: 0.9991 - val_loss: 0.1627 - val_accuracy: 0.9761\n",
      "Epoch 4/10\n",
      "28/28 [==============================] - 7s 240ms/step - loss: 0.0043 - accuracy: 0.9989 - val_loss: 0.1641 - val_accuracy: 0.9750\n"
     ]
    },
    {
     "data": {
      "text/plain": [
       "<keras.callbacks.History at 0x7fa7ae547b50>"
      ]
     },
     "execution_count": 58,
     "metadata": {},
     "output_type": "execute_result"
    }
   ],
   "source": [
    "model.fit(X_train, y_train, batch_size=128,epochs=10,validation_split=0.2,callbacks=[EarlyStopping(monitor='val_loss',patience=2)])"
   ]
  },
  {
   "cell_type": "markdown",
   "metadata": {
    "id": "djeXi05nSjZr"
   },
   "source": [
    "8. Save The Model"
   ]
  },
  {
   "cell_type": "code",
   "execution_count": 59,
   "metadata": {
    "id": "m1SntO25SkO7"
   },
   "outputs": [],
   "source": [
    "model.save('spam-classifier.h5')"
   ]
  },
  {
   "cell_type": "markdown",
   "metadata": {
    "id": "g-AJosAAS3pG"
   },
   "source": [
    "9. Test The Model"
   ]
  },
  {
   "cell_type": "code",
   "execution_count": 60,
   "metadata": {
    "colab": {
     "base_uri": "https://localhost:8080/"
    },
    "id": "uYNzlNfxS4wr",
    "outputId": "1908abe9-10a8-4b8a-e19e-40f785bb1481"
   },
   "outputs": [
    {
     "name": "stdout",
     "output_type": "stream",
     "text": [
      "25/25 [==============================] - 1s 24ms/step - loss: 0.1436 - accuracy: 0.9755\n",
      "Accuracy of the model on Testing Data is -  97.55154848098755 %\n"
     ]
    }
   ],
   "source": [
    "print(\"Accuracy of the model on Testing Data is - \" , model.evaluate(X_test,y_test)[1]*100 , \"%\")"
   ]
  }
 ],
 "metadata": {
  "colab": {
   "provenance": [],
   "toc_visible": true
  },
  "kernelspec": {
   "display_name": "Python 3 (ipykernel)",
   "language": "python",
   "name": "python3"
  },
  "language_info": {
   "codemirror_mode": {
    "name": "ipython",
    "version": 3
   },
   "file_extension": ".py",
   "mimetype": "text/x-python",
   "name": "python",
   "nbconvert_exporter": "python",
   "pygments_lexer": "ipython3",
   "version": "3.9.12"
  }
 },
 "nbformat": 4,
 "nbformat_minor": 1
}
