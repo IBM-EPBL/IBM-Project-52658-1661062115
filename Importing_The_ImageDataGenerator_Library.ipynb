{
  "nbformat": 4,
  "nbformat_minor": 0,
  "metadata": {
    "colab": {
      "provenance": []
    },
    "kernelspec": {
      "name": "python3",
      "display_name": "Python 3"
    },
    "language_info": {
      "name": "python"
    }
  },
  "cells": [
    {
      "cell_type": "markdown",
      "source": [
        "improt keras library"
      ],
      "metadata": {
        "id": "aF8JNjCfYCmQ"
      }
    },
    {
      "cell_type": "code",
      "execution_count": 1,
      "metadata": {
        "id": "B7D_3ssxYAM8"
      },
      "outputs": [],
      "source": [
        "import keras"
      ]
    },
    {
      "cell_type": "markdown",
      "source": [
        "import ImageDataGenerator class from keras"
      ],
      "metadata": {
        "id": "Yt7B30WjZNlF"
      }
    },
    {
      "cell_type": "code",
      "source": [
        "from keras.preprocessing.image import ImageDataGenerator"
      ],
      "metadata": {
        "id": "S6qBLqvNZqG2"
      },
      "execution_count": 2,
      "outputs": []
    }
  ]
}